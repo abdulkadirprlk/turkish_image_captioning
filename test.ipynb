{
 "cells": [
  {
   "cell_type": "code",
   "execution_count": 14,
   "id": "ec91efa4",
   "metadata": {},
   "outputs": [
    {
     "ename": "ImportError",
     "evalue": "cannot import name 'Trclip' from 'trclip' (/Users/abdulkadir/anaconda3/envs/bites/lib/python3.11/site-packages/trclip/__init__.py)",
     "output_type": "error",
     "traceback": [
      "\u001b[31m---------------------------------------------------------------------------\u001b[39m",
      "\u001b[31mImportError\u001b[39m                               Traceback (most recent call last)",
      "\u001b[36mCell\u001b[39m\u001b[36m \u001b[39m\u001b[32mIn[14]\u001b[39m\u001b[32m, line 2\u001b[39m\n\u001b[32m      1\u001b[39m \u001b[38;5;28;01mimport\u001b[39;00m\u001b[38;5;250m \u001b[39m\u001b[34;01mtorch\u001b[39;00m\n\u001b[32m----> \u001b[39m\u001b[32m2\u001b[39m \u001b[38;5;28;01mfrom\u001b[39;00m\u001b[38;5;250m \u001b[39m\u001b[34;01mtrclip\u001b[39;00m\u001b[38;5;250m \u001b[39m\u001b[38;5;28;01mimport\u001b[39;00m Trclip\n",
      "\u001b[31mImportError\u001b[39m: cannot import name 'Trclip' from 'trclip' (/Users/abdulkadir/anaconda3/envs/bites/lib/python3.11/site-packages/trclip/__init__.py)"
     ]
    }
   ],
   "source": [
    "import torch\n",
    "from trclip import Trclip"
   ]
  },
  {
   "cell_type": "code",
   "execution_count": 13,
   "id": "aeac09bf",
   "metadata": {},
   "outputs": [
    {
     "ename": "NameError",
     "evalue": "name 'Trclip' is not defined",
     "output_type": "error",
     "traceback": [
      "\u001b[31m---------------------------------------------------------------------------\u001b[39m",
      "\u001b[31mNameError\u001b[39m                                 Traceback (most recent call last)",
      "\u001b[36mCell\u001b[39m\u001b[36m \u001b[39m\u001b[32mIn[13]\u001b[39m\u001b[32m, line 2\u001b[39m\n\u001b[32m      1\u001b[39m device = \u001b[33m\"\u001b[39m\u001b[33mmps\u001b[39m\u001b[33m\"\u001b[39m \u001b[38;5;28;01mif\u001b[39;00m torch.backends.mps.is_available() \u001b[38;5;28;01melse\u001b[39;00m \u001b[33m\"\u001b[39m\u001b[33mcpu\u001b[39m\u001b[33m\"\u001b[39m\n\u001b[32m----> \u001b[39m\u001b[32m2\u001b[39m trclip = \u001b[43mTrclip\u001b[49m(model_path, clip_model=\u001b[33m'\u001b[39m\u001b[33mViT-L/14\u001b[39m\u001b[33m'\u001b[39m, device=device)\n\u001b[32m      3\u001b[39m images = [Image.open() \u001b[38;5;28;01mfor\u001b[39;00m i \u001b[38;5;129;01min\u001b[39;00m image_paths]\n\u001b[32m      4\u001b[39m texts = [\u001b[33m'\u001b[39m\u001b[33mkedi\u001b[39m\u001b[33m'\u001b[39m, \u001b[33m'\u001b[39m\u001b[33mköpek\u001b[39m\u001b[33m'\u001b[39m , \u001b[33m'\u001b[39m\u001b[33mat\u001b[39m\u001b[33m'\u001b[39m]\n",
      "\u001b[31mNameError\u001b[39m: name 'Trclip' is not defined"
     ]
    }
   ],
   "source": [
    "device = \"mps\" if torch.backends.mps.is_available() else \"cpu\"\n",
    "trclip = Trclip(model_path, clip_model='ViT-L/14', device=device)\n",
    "images = [Image.open() for i in image_paths]\n",
    "texts = ['kedi', 'köpek' , 'at']"
   ]
  },
  {
   "cell_type": "code",
   "execution_count": null,
   "id": "62e69dc1",
   "metadata": {},
   "outputs": [],
   "source": []
  }
 ],
 "metadata": {
  "kernelspec": {
   "display_name": "bites",
   "language": "python",
   "name": "python3"
  },
  "language_info": {
   "codemirror_mode": {
    "name": "ipython",
    "version": 3
   },
   "file_extension": ".py",
   "mimetype": "text/x-python",
   "name": "python",
   "nbconvert_exporter": "python",
   "pygments_lexer": "ipython3",
   "version": "3.11.13"
  }
 },
 "nbformat": 4,
 "nbformat_minor": 5
}
